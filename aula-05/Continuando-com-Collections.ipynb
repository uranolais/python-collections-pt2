{
 "cells": [
  {
   "cell_type": "code",
   "execution_count": null,
   "metadata": {},
   "outputs": [],
   "source": [
    "from collections import Counter\n",
    "\n",
    "texto1 = \"\"\"Em nosso dia a dia com programação é muito comum termos que ler e processar dados em diferentes formatos.\n",
    "Por isso é importante aprendermos as diferentes maneiras de lidar com essas informações e como podemos validá-las \n",
    "antes de fazer qualquer operação em nosso programa. Seu nome, seu CPF ou RG ou a sua idade são dados diferentes.\n",
    "Um formado apenas por letras, outros sequência de números ou apenas uma dezena. \n",
    "Mergulhe neste assunto e aprenda na prática a utilizar diferentes tipos de dados.\"\"\"\n",
    "texto2 = \"\"\"\n",
    "Uma vez entendendo a linguagem, você poderá descobrirá como testar aplicações em Python, \n",
    "seguindo as boas práticas de TDD (Test Driven Development). \n",
    "Também conhecerá a principal biblioteca de teste do Python, a Pytest.\n",
    "\"\"\"\n",
    "Counter(texto1.lower())\n",
    "aparicoes = Counter(texto1.lower())\n",
    "# print(aparicoes)\n",
    "# print(aparicoes.values())\n",
    "total_de_caracteres = sum(aparicoes.values())\n",
    "# for letra, frequencia in aparicoes.items():\n",
    "#     tupla=(letra, frequencia / total_de_caracteres)\n",
    "#     print(tupla)\n",
    "proporcoes = [(letra, frequencia / total_de_caracteres) for letra, frequencia in aparicoes.items()]\n",
    "proporcoes = dict(proporcoes)\n",
    "#print(proporcoes)\n",
    "def analisa_frequencia_de_letras(texto):\n",
    "    aparicoes = Counter(texto.lower())\n",
    "    total_de_caracteres = sum(aparicoes.values())\n",
    "    proporcoes = [(letra, frequencia / total_de_caracteres) for letra, frequencia in aparicoes.items()]\n",
    "    proporcoes = Counter(dict(proporcoes))\n",
    "    mais_comuns = proporcoes.most_common(10)\n",
    "    for caractere, proporcao in mais_comuns:\n",
    "        print(\"{} => {:.2f}%\".format(caractere, proporcao * 100))\n",
    "analisa_frequencia_de_letras(texto1)\n",
    "analisa_frequencia_de_letras(texto2)\n",
    "\n"
   ]
  }
 ],
 "metadata": {
  "kernelspec": {
   "display_name": "Python 3",
   "language": "python",
   "name": "python3"
  },
  "language_info": {
   "codemirror_mode": {
    "name": "ipython",
    "version": 3
   },
   "file_extension": ".py",
   "mimetype": "text/x-python",
   "name": "python",
   "nbconvert_exporter": "python",
   "pygments_lexer": "ipython3",
   "version": "3.10.8"
  },
  "orig_nbformat": 4,
  "vscode": {
   "interpreter": {
    "hash": "6c366ef536ff4611b0ac29bb2c553d3a1821187d7d4be00f2a954e2b6ee0ff5b"
   }
  }
 },
 "nbformat": 4,
 "nbformat_minor": 2
}
