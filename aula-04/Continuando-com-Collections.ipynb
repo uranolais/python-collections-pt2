{
 "cells": [
  {
   "cell_type": "code",
   "execution_count": null,
   "metadata": {},
   "outputs": [],
   "source": [
    "meu_texto = \"Bem vindo meu nome é Guilherme eu gosto muito de nomes e tenho o meu cachorro e gosto muito de cachorro\"\n",
    "meu_texto = meu_texto.lower()\n",
    "\n",
    "aparicoes = {}\n",
    "\n",
    "for palavra in meu_texto.split():\n",
    "    ate_agora = aparicoes.get(palavra, 0)\n",
    "    aparicoes[palavra] = ate_agora + 1\n",
    "print(aparicoes)"
   ]
  },
  {
   "cell_type": "code",
   "execution_count": null,
   "metadata": {},
   "outputs": [],
   "source": [
    "from collections import defaultdict\n",
    "meu_texto = \"Bem vindo meu nome é Guilherme eu gosto muito de nomes e tenho o meu cachorro e gosto muito de cachorro\"\n",
    "meu_texto = meu_texto.lower()\n",
    "\n",
    "aparicoes = defaultdict(int)\n",
    "\n",
    "# for palavra in meu_texto.split():\n",
    "#     ate_agora = aparicoes.get(palavra, 0)\n",
    "#     aparicoes[palavra] = ate_agora + 1\n",
    "\n",
    "for palavra in meu_texto.split():\n",
    "    ate_agora = aparicoes[palavra]\n",
    "    aparicoes[palavra] = ate_agora + 1\n",
    "\n",
    "print(aparicoes)\n",
    "\n",
    "dicionario = defaultdict(int)\n",
    "print(dicionario['guilherme'])\n"
   ]
  },
  {
   "cell_type": "code",
   "execution_count": null,
   "metadata": {},
   "outputs": [],
   "source": [
    "from collections import defaultdict\n",
    "\n",
    "# aparicoes = defaultdict(int)\n",
    "\n",
    "# for palavra in meu_texto.split():\n",
    "#     ate_agora = aparicoes[palavra]\n",
    "#     aparicoes[palavra] = ate_agora + 1\n",
    "\n",
    "aparicoes = defaultdict(int)\n",
    "\n",
    "for palavra in meu_texto.split():\n",
    "    aparicoes[palavra] += 1\n",
    "\n",
    "print(aparicoes)"
   ]
  },
  {
   "cell_type": "code",
   "execution_count": null,
   "metadata": {},
   "outputs": [],
   "source": [
    "class Conta:\n",
    "    def __init__(self):\n",
    "        print(\"Criando uma conta\")\n",
    "\n",
    "contas = defaultdict(Conta)\n",
    "print(contas[15])"
   ]
  },
  {
   "cell_type": "code",
   "execution_count": null,
   "metadata": {},
   "outputs": [],
   "source": [
    "from collections import Counter\n",
    "\n",
    "aparicoes = Counter()#contador\n",
    "# for palavra in meu_texto.split():\n",
    "#     aparicoes[palavra] += 1\n",
    "# print(aparicoes)\n",
    "aparicoes = Counter(meu_texto.split())\n",
    "print(aparicoes)\n"
   ]
  }
 ],
 "metadata": {
  "kernelspec": {
   "display_name": "Python 3",
   "language": "python",
   "name": "python3"
  },
  "language_info": {
   "codemirror_mode": {
    "name": "ipython",
    "version": 3
   },
   "file_extension": ".py",
   "mimetype": "text/x-python",
   "name": "python",
   "nbconvert_exporter": "python",
   "pygments_lexer": "ipython3",
   "version": "3.10.8"
  },
  "orig_nbformat": 4,
  "vscode": {
   "interpreter": {
    "hash": "6c366ef536ff4611b0ac29bb2c553d3a1821187d7d4be00f2a954e2b6ee0ff5b"
   }
  }
 },
 "nbformat": 4,
 "nbformat_minor": 2
}
