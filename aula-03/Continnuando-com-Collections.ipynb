{
 "cells": [
  {
   "cell_type": "code",
   "execution_count": null,
   "metadata": {},
   "outputs": [],
   "source": [
    "aparicoes = {\n",
    "  \"Guilherme\" : 1,\n",
    "  \"cachorro\" : 2,\n",
    "  \"nome\" : 2,\n",
    "  \"vindo\" : 1\n",
    "}\n",
    "print(type(aparicoes))\n",
    "print(aparicoes[\"Guilherme\"])\n",
    "print(aparicoes[\"cachorro\"])\n",
    "print(aparicoes[\"nome\"])\n",
    "print(aparicoes[\"vindo\"])\n",
    "#print(aparicoes[\"xpto\"])\n",
    "aparicoes.get(\"xpto\", 0)#se não tiver, retorna 0\n",
    "aparicoes.get(\"cachorro\", 0)\n",
    "aparicoes = dict(Guilherme = 2, cachorro = 1) #Outra maneira de criar um dicionário pelo construtor dict\n",
    "print(aparicoes)"
   ]
  },
  {
   "cell_type": "code",
   "execution_count": null,
   "metadata": {},
   "outputs": [],
   "source": [
    "aparicoes = {\n",
    "  \"Guilherme\" : 1,\n",
    "  \"cachorro\" : 2,\n",
    "  \"nome\" : 2,\n",
    "  \"vindo\" : 1\n",
    "}\n",
    "aparicoes[\"Carlos\"] = 1#Adicionando um elemento\n",
    "print(aparicoes)\n",
    "aparicoes[\"Carlos\"] = 2\n",
    "print(aparicoes)\n",
    "del aparicoes[\"Carlos\"] #removendo um elemento\n",
    "print(\"cachorro\" in aparicoes)#relações as chaves\n",
    "print(\"Carlos\" in aparicoes)\n",
    "for elemento in aparicoes:\n",
    "    print(elemento)\n",
    "for elemento in aparicoes.keys():\n",
    "    print(elemento)\n",
    "for elemento in aparicoes.values():\n",
    "    print(elemento)\n",
    "print(1 in aparicoes.values())\n"
   ]
  },
  {
   "cell_type": "code",
   "execution_count": null,
   "metadata": {},
   "outputs": [],
   "source": [
    "aparicoes = {\n",
    "  \"Guilherme\" : 1,\n",
    "  \"cachorro\" : 2,\n",
    "  \"nome\" : 2,\n",
    "  \"vindo\" : 1\n",
    "}\n",
    "for elemento in aparicoes.keys():\n",
    "    print(elemento, aparicoes[elemento])\n",
    "for elemento in aparicoes.items():\n",
    "    print(elemento)\n",
    "for chave, valor in aparicoes.items():\n",
    "    print(chave, \"=\", valor)\n",
    "print([\"palavra {}\".format(chave) for chave in aparicoes.keys()])"
   ]
  }
 ],
 "metadata": {
  "kernelspec": {
   "display_name": "Python 3",
   "language": "python",
   "name": "python3"
  },
  "language_info": {
   "codemirror_mode": {
    "name": "ipython",
    "version": 3
   },
   "file_extension": ".py",
   "mimetype": "text/x-python",
   "name": "python",
   "nbconvert_exporter": "python",
   "pygments_lexer": "ipython3",
   "version": "3.10.8"
  },
  "orig_nbformat": 4,
  "vscode": {
   "interpreter": {
    "hash": "6c366ef536ff4611b0ac29bb2c553d3a1821187d7d4be00f2a954e2b6ee0ff5b"
   }
  }
 },
 "nbformat": 4,
 "nbformat_minor": 2
}
