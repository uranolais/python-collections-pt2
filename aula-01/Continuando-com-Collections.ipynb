{
 "cells": [
  {
   "cell_type": "code",
   "execution_count": null,
   "metadata": {},
   "outputs": [],
   "source": [
    "usuarios_data_science = [15, 23, 43, 56]\n",
    "usuarios_machine_learning = [13, 23, 56, 42]\n",
    "assistiram = usuarios_data_science.copy()\n",
    "print(assistiram)\n",
    "assistiram.extend(usuarios_machine_learning)#junta as duas listas\n",
    "print(assistiram)\n",
    "len(assistiram)\n",
    "set(assistiram)#cria um conjunto sem repetição e ordem, passando um iteravel nele\n"
   ]
  },
  {
   "cell_type": "code",
   "execution_count": null,
   "metadata": {},
   "outputs": [],
   "source": [
    "usuarios_data_science = {15, 23, 43, 56} #conjuntos\n",
    "usuarios_machine_learning = {13, 23, 56, 42}\n",
    "assistiram = usuarios_data_science | usuarios_machine_learning\n",
    "for usuario in set(assistiram):\n",
    "    print(usuario) #a ordem não importa\n",
    "\n",
    "print(usuarios_data_science | usuarios_machine_learning) # um OU outro, equivalente ao extends\n"
   ]
  },
  {
   "cell_type": "code",
   "execution_count": null,
   "metadata": {},
   "outputs": [],
   "source": [
    "usuarios_data_science = {15, 23, 43, 56} #conjuntos\n",
    "usuarios_machine_learning = {13, 23, 56, 42}\n",
    "fizeram_em_comum = usuarios_data_science & usuarios_machine_learning # um E outro\n",
    "print(fizeram_em_comum)\n",
    "\n",
    "fez_ds_n_ml = usuarios_data_science - usuarios_machine_learning \n",
    "print(fez_ds_n_ml)\n",
    "\n",
    "fez_ml_n_ds = usuarios_data_science ^ usuarios_machine_learning #Fez exclusivamente um "
   ]
  }
 ],
 "metadata": {
  "kernelspec": {
   "display_name": "Python 3",
   "language": "python",
   "name": "python3"
  },
  "language_info": {
   "codemirror_mode": {
    "name": "ipython",
    "version": 3
   },
   "file_extension": ".py",
   "mimetype": "text/x-python",
   "name": "python",
   "nbconvert_exporter": "python",
   "pygments_lexer": "ipython3",
   "version": "3.10.8"
  },
  "orig_nbformat": 4,
  "vscode": {
   "interpreter": {
    "hash": "6c366ef536ff4611b0ac29bb2c553d3a1821187d7d4be00f2a954e2b6ee0ff5b"
   }
  }
 },
 "nbformat": 4,
 "nbformat_minor": 2
}
